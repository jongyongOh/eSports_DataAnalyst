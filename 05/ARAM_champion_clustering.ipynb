{
 "cells": [
  {
   "cell_type": "code",
   "execution_count": 1,
   "id": "dadaef34",
   "metadata": {},
   "outputs": [],
   "source": [
    "# 패키지 로드\n",
    "import os\n",
    "import numpy as np\n",
    "import pandas as pd\n",
    "# import pymysql\n",
    "import requests\n",
    "import math\n",
    "from matplotlib import pyplot as plt\n",
    "from scipy.cluster.hierarchy import dendrogram, linkage, fcluster"
   ]
  },
  {
   "cell_type": "code",
   "execution_count": 2,
   "id": "3f3706a1",
   "metadata": {},
   "outputs": [],
   "source": [
    "# 라이엇 개발자 페이지에서 게임 상수 최신 버전 정보 가져오기\n",
    "constant_patch = requests.get('https://ddragon.leagueoflegends.com/api/versions.json').json()\n",
    "\n",
    "# constant_patch == '11.22.1'\n",
    "\n",
    "# 라이엇 개발자 페이지에서 최신 버전 한국 서버 아이템 정보 가져오기\n",
    "item_info = requests.get('http://ddragon.leagueoflegends.com/cdn/11.22.1/data/ko_KR/item.json').json()\n",
    "\n",
    "# 라이엇 개발자 페이지에서 최신 버전 한국 서버 챔피언 정보 가져오기\n",
    "champion_info = requests.get('http://ddragon.leagueoflegends.com/cdn/11.22.1/data/ko_KR/champion.json').json()\n",
    "\n",
    "# item_info, champion_info는 json형태"
   ]
  },
  {
   "cell_type": "code",
   "execution_count": 3,
   "id": "f8a26bdd",
   "metadata": {},
   "outputs": [
    {
     "data": {
      "text/plain": [
       "dict"
      ]
     },
     "execution_count": 3,
     "metadata": {},
     "output_type": "execute_result"
    }
   ],
   "source": [
    "type(champion_info)"
   ]
  },
  {
   "cell_type": "code",
   "execution_count": 4,
   "id": "dea86cfb",
   "metadata": {},
   "outputs": [],
   "source": [
    "# 챔피언 정보 => DataFrame으로 변환\n",
    "champion_df = pd.DataFrame(champion_info['data']).T[['key','name']]\n",
    "\n",
    "# champion_df는 'key'로 id값, 'name'으로 챔피언 한국어 이름을 가지는 156rows짜리 DataFrame\n",
    "\n",
    "# champion_df의 'key' column string => numeric 변환\n",
    "champion_df['key'] = pd.to_numeric(champion_df['key'])"
   ]
  },
  {
   "cell_type": "code",
   "execution_count": 5,
   "id": "7acdc846",
   "metadata": {},
   "outputs": [
    {
     "data": {
      "text/html": [
       "<div>\n",
       "<style scoped>\n",
       "    .dataframe tbody tr th:only-of-type {\n",
       "        vertical-align: middle;\n",
       "    }\n",
       "\n",
       "    .dataframe tbody tr th {\n",
       "        vertical-align: top;\n",
       "    }\n",
       "\n",
       "    .dataframe thead th {\n",
       "        text-align: right;\n",
       "    }\n",
       "</style>\n",
       "<table border=\"1\" class=\"dataframe\">\n",
       "  <thead>\n",
       "    <tr style=\"text-align: right;\">\n",
       "      <th></th>\n",
       "      <th>key</th>\n",
       "      <th>name</th>\n",
       "    </tr>\n",
       "  </thead>\n",
       "  <tbody>\n",
       "    <tr>\n",
       "      <th>Aatrox</th>\n",
       "      <td>266</td>\n",
       "      <td>아트록스</td>\n",
       "    </tr>\n",
       "    <tr>\n",
       "      <th>Ahri</th>\n",
       "      <td>103</td>\n",
       "      <td>아리</td>\n",
       "    </tr>\n",
       "    <tr>\n",
       "      <th>Akali</th>\n",
       "      <td>84</td>\n",
       "      <td>아칼리</td>\n",
       "    </tr>\n",
       "    <tr>\n",
       "      <th>Akshan</th>\n",
       "      <td>166</td>\n",
       "      <td>아크샨</td>\n",
       "    </tr>\n",
       "    <tr>\n",
       "      <th>Alistar</th>\n",
       "      <td>12</td>\n",
       "      <td>알리스타</td>\n",
       "    </tr>\n",
       "    <tr>\n",
       "      <th>...</th>\n",
       "      <td>...</td>\n",
       "      <td>...</td>\n",
       "    </tr>\n",
       "    <tr>\n",
       "      <th>Zed</th>\n",
       "      <td>238</td>\n",
       "      <td>제드</td>\n",
       "    </tr>\n",
       "    <tr>\n",
       "      <th>Ziggs</th>\n",
       "      <td>115</td>\n",
       "      <td>직스</td>\n",
       "    </tr>\n",
       "    <tr>\n",
       "      <th>Zilean</th>\n",
       "      <td>26</td>\n",
       "      <td>질리언</td>\n",
       "    </tr>\n",
       "    <tr>\n",
       "      <th>Zoe</th>\n",
       "      <td>142</td>\n",
       "      <td>조이</td>\n",
       "    </tr>\n",
       "    <tr>\n",
       "      <th>Zyra</th>\n",
       "      <td>143</td>\n",
       "      <td>자이라</td>\n",
       "    </tr>\n",
       "  </tbody>\n",
       "</table>\n",
       "<p>157 rows × 2 columns</p>\n",
       "</div>"
      ],
      "text/plain": [
       "         key  name\n",
       "Aatrox   266  아트록스\n",
       "Ahri     103    아리\n",
       "Akali     84   아칼리\n",
       "Akshan   166   아크샨\n",
       "Alistar   12  알리스타\n",
       "...      ...   ...\n",
       "Zed      238    제드\n",
       "Ziggs    115    직스\n",
       "Zilean    26   질리언\n",
       "Zoe      142    조이\n",
       "Zyra     143   자이라\n",
       "\n",
       "[157 rows x 2 columns]"
      ]
     },
     "execution_count": 5,
     "metadata": {},
     "output_type": "execute_result"
    }
   ],
   "source": [
    "champion_df"
   ]
  },
  {
   "cell_type": "code",
   "execution_count": 6,
   "id": "57739264",
   "metadata": {},
   "outputs": [],
   "source": [
    "# 아이템 정보 => DataFrame으로 변환\n",
    "item_df = pd.DataFrame(columns=['id','name','gold'])\n",
    "\n",
    "# item_df는 아이템의 숫자 id, 한국어 이름(name) 및 조합비(직전 하위템 전부 갖고 있을 때 완성템을 조합할 때 드는 비용)를 가지는 DataFrame\n",
    "\n",
    "item_tree = pd.DataFrame(columns=['id','id_from'])\n",
    "\n",
    "# item_tree는 아이템의 숫자 id, 직전 하위템 리스트(id_from)를 가지는 DataFrame\n",
    "# 예시: 유령 무희(2600G) = 롱소드(350G) + 열정의 검(1050G) + 롱소드(350G) + 850G이므로 유령 무희에 대한 rows가 3개 나옴\n",
    "\n",
    "for item_id in item_info['data']:\n",
    "    # Consumable한 아이템(체력 물약 등) 제외\n",
    "    # 'tags'에 'Consumable' 정보가 없는 아이템에 대해서만 수행\n",
    "    if 'consumable' not in item_info['data'][item_id]['tags']:\n",
    "        try:\n",
    "            # 'consumed' 필드가 있는 아이템(부패 물약, 충전형 물약)은 하단 코드가 실행되지 않고 continue로 바로 다음 item_id로 넘어감\n",
    "            item_info['data'][item_id]['consumed']\n",
    "            continue\n",
    "        except:\n",
    "            pass\n",
    "        \n",
    "        # 아이템명 및 조합비\n",
    "        # id, name, gold 3개 필드를 가지게끔 json parsing\n",
    "        item_row = pd.json_normalize(item_info['data'][item_id])[['name', 'gold.base']]\n",
    "        item_row['id'] = item_id\n",
    "        item_row.rename(columns = {'gold.base':'gold'}, inplace = True)\n",
    "        item_df = pd.concat([item_df, item_row])\n",
    "        \n",
    "        \n",
    "        \n",
    "\n",
    "        # 직전 하위템\n",
    "        try:\n",
    "            # 'from' 필드에 있는 항목을 각각 하나의 row로 가지는 item_row_tree DataFrame 생성\n",
    "            item_row_tree = pd.json_normalize(item_info['data'][item_id], record_path=['from'])\n",
    "            item_row_tree.rename(columns = {0:'id_from'},inplace=True)\n",
    "            item_row_tree['id'] = item_id\n",
    "            item_tree = pd.concat([item_tree,item_row_tree])\n",
    "        # 하위템이 없는 경우 생략\n",
    "        \n",
    "        except Exception:\n",
    "            pass"
   ]
  },
  {
   "cell_type": "code",
   "execution_count": 7,
   "id": "10b3c143",
   "metadata": {},
   "outputs": [
    {
     "data": {
      "text/html": [
       "<div>\n",
       "<style scoped>\n",
       "    .dataframe tbody tr th:only-of-type {\n",
       "        vertical-align: middle;\n",
       "    }\n",
       "\n",
       "    .dataframe tbody tr th {\n",
       "        vertical-align: top;\n",
       "    }\n",
       "\n",
       "    .dataframe thead th {\n",
       "        text-align: right;\n",
       "    }\n",
       "</style>\n",
       "<table border=\"1\" class=\"dataframe\">\n",
       "  <thead>\n",
       "    <tr style=\"text-align: right;\">\n",
       "      <th></th>\n",
       "      <th>id</th>\n",
       "      <th>name</th>\n",
       "      <th>gold</th>\n",
       "    </tr>\n",
       "  </thead>\n",
       "  <tbody>\n",
       "    <tr>\n",
       "      <th>0</th>\n",
       "      <td>1001</td>\n",
       "      <td>장화</td>\n",
       "      <td>300</td>\n",
       "    </tr>\n",
       "    <tr>\n",
       "      <th>0</th>\n",
       "      <td>1004</td>\n",
       "      <td>요정의 부적</td>\n",
       "      <td>250</td>\n",
       "    </tr>\n",
       "    <tr>\n",
       "      <th>0</th>\n",
       "      <td>1006</td>\n",
       "      <td>원기 회복의 구슬</td>\n",
       "      <td>150</td>\n",
       "    </tr>\n",
       "    <tr>\n",
       "      <th>0</th>\n",
       "      <td>1011</td>\n",
       "      <td>거인의 허리띠</td>\n",
       "      <td>500</td>\n",
       "    </tr>\n",
       "    <tr>\n",
       "      <th>0</th>\n",
       "      <td>1018</td>\n",
       "      <td>민첩성의 망토</td>\n",
       "      <td>600</td>\n",
       "    </tr>\n",
       "    <tr>\n",
       "      <th>...</th>\n",
       "      <td>...</td>\n",
       "      <td>...</td>\n",
       "      <td>...</td>\n",
       "    </tr>\n",
       "    <tr>\n",
       "      <th>0</th>\n",
       "      <td>6692</td>\n",
       "      <td>월식</td>\n",
       "      <td>850</td>\n",
       "    </tr>\n",
       "    <tr>\n",
       "      <th>0</th>\n",
       "      <td>6693</td>\n",
       "      <td>자객의 발톱</td>\n",
       "      <td>1000</td>\n",
       "    </tr>\n",
       "    <tr>\n",
       "      <th>0</th>\n",
       "      <td>6694</td>\n",
       "      <td>세릴다의 원한</td>\n",
       "      <td>650</td>\n",
       "    </tr>\n",
       "    <tr>\n",
       "      <th>0</th>\n",
       "      <td>6695</td>\n",
       "      <td>독사의 송곳니</td>\n",
       "      <td>625</td>\n",
       "    </tr>\n",
       "    <tr>\n",
       "      <th>0</th>\n",
       "      <td>8001</td>\n",
       "      <td>증오의 사슬</td>\n",
       "      <td>800</td>\n",
       "    </tr>\n",
       "  </tbody>\n",
       "</table>\n",
       "<p>188 rows × 3 columns</p>\n",
       "</div>"
      ],
      "text/plain": [
       "      id       name  gold\n",
       "0   1001         장화   300\n",
       "0   1004     요정의 부적   250\n",
       "0   1006  원기 회복의 구슬   150\n",
       "0   1011    거인의 허리띠   500\n",
       "0   1018    민첩성의 망토   600\n",
       "..   ...        ...   ...\n",
       "0   6692         월식   850\n",
       "0   6693     자객의 발톱  1000\n",
       "0   6694    세릴다의 원한   650\n",
       "0   6695    독사의 송곳니   625\n",
       "0   8001     증오의 사슬   800\n",
       "\n",
       "[188 rows x 3 columns]"
      ]
     },
     "execution_count": 7,
     "metadata": {},
     "output_type": "execute_result"
    }
   ],
   "source": [
    "item_df"
   ]
  },
  {
   "cell_type": "code",
   "execution_count": 8,
   "id": "707a3c78",
   "metadata": {},
   "outputs": [],
   "source": [
    "item_tree_full = item_tree\n",
    "item_tree_new = item_tree\n",
    "\n",
    "# 가장 하위 아이템까지 full 아이템트리 및 각 재료 아이템에 소모되는 골드를 item_tree_full DataFrame에 저장\n",
    "# 예시로 이 셀 최종 시점에 유령 무희에 대해서는 다음과 같은 rows가 나옴\n",
    "# id            | id_from          | gold\n",
    "# 3046(유령 무희) | 3046(유령 무희)    | 850\n",
    "# 3046(유령 무희) | 3086(열정의 검)    | 150\n",
    "# 3046(유령 무희) | 1036(롱소드)       | 700\n",
    "# 3046(유령 무희) | 1018(민첩성의 망토) | 600\n",
    "# 3046(유령 무희) | 1042(단검)        | 300\n",
    "\n",
    "while True:\n",
    "    # item_tree_new에 item_tree를 merge해서 방금 추가한 하위템보다 한 depth 아래의 하위템 리스트 추출\n",
    "    item_tree_new = item_tree_new.merge(item_tree, how='inner', left_on='id_from', right_on='id')\\\n",
    "    [['id_x', 'id_from_y']].\\\n",
    "    rename(columns = {'id_x' : 'id', 'id_from_y':'id_from'})\n",
    "\n",
    "    \n",
    "    \n",
    "    # 모두 재료템만 남았으면 종료\n",
    "    if len(item_tree_new) == 0:\n",
    "        break\n",
    "    item_tree_full = pd.concat([item_tree_full, item_tree_new])\n",
    "\n",
    "# 자기자신을 리스트에 추가\n",
    "item_tree_new['id']=item_df['id']\n",
    "item_tree_new['id_from']=item_df['id']\n",
    "item_tree_full = pd.concat([item_tree_full, item_tree_new])\n",
    "\n",
    "\n"
   ]
  },
  {
   "cell_type": "code",
   "execution_count": 9,
   "id": "d8a95fda",
   "metadata": {},
   "outputs": [
    {
     "data": {
      "text/html": [
       "<div>\n",
       "<style scoped>\n",
       "    .dataframe tbody tr th:only-of-type {\n",
       "        vertical-align: middle;\n",
       "    }\n",
       "\n",
       "    .dataframe tbody tr th {\n",
       "        vertical-align: top;\n",
       "    }\n",
       "\n",
       "    .dataframe thead th {\n",
       "        text-align: right;\n",
       "    }\n",
       "</style>\n",
       "<table border=\"1\" class=\"dataframe\">\n",
       "  <thead>\n",
       "    <tr style=\"text-align: right;\">\n",
       "      <th></th>\n",
       "      <th>id</th>\n",
       "      <th>name</th>\n",
       "      <th>gold</th>\n",
       "    </tr>\n",
       "  </thead>\n",
       "  <tbody>\n",
       "    <tr>\n",
       "      <th>0</th>\n",
       "      <td>1001</td>\n",
       "      <td>장화</td>\n",
       "      <td>300</td>\n",
       "    </tr>\n",
       "    <tr>\n",
       "      <th>0</th>\n",
       "      <td>1004</td>\n",
       "      <td>요정의 부적</td>\n",
       "      <td>250</td>\n",
       "    </tr>\n",
       "    <tr>\n",
       "      <th>0</th>\n",
       "      <td>1006</td>\n",
       "      <td>원기 회복의 구슬</td>\n",
       "      <td>150</td>\n",
       "    </tr>\n",
       "    <tr>\n",
       "      <th>0</th>\n",
       "      <td>1011</td>\n",
       "      <td>거인의 허리띠</td>\n",
       "      <td>500</td>\n",
       "    </tr>\n",
       "    <tr>\n",
       "      <th>0</th>\n",
       "      <td>1018</td>\n",
       "      <td>민첩성의 망토</td>\n",
       "      <td>600</td>\n",
       "    </tr>\n",
       "    <tr>\n",
       "      <th>...</th>\n",
       "      <td>...</td>\n",
       "      <td>...</td>\n",
       "      <td>...</td>\n",
       "    </tr>\n",
       "    <tr>\n",
       "      <th>0</th>\n",
       "      <td>6692</td>\n",
       "      <td>월식</td>\n",
       "      <td>850</td>\n",
       "    </tr>\n",
       "    <tr>\n",
       "      <th>0</th>\n",
       "      <td>6693</td>\n",
       "      <td>자객의 발톱</td>\n",
       "      <td>1000</td>\n",
       "    </tr>\n",
       "    <tr>\n",
       "      <th>0</th>\n",
       "      <td>6694</td>\n",
       "      <td>세릴다의 원한</td>\n",
       "      <td>650</td>\n",
       "    </tr>\n",
       "    <tr>\n",
       "      <th>0</th>\n",
       "      <td>6695</td>\n",
       "      <td>독사의 송곳니</td>\n",
       "      <td>625</td>\n",
       "    </tr>\n",
       "    <tr>\n",
       "      <th>0</th>\n",
       "      <td>8001</td>\n",
       "      <td>증오의 사슬</td>\n",
       "      <td>800</td>\n",
       "    </tr>\n",
       "  </tbody>\n",
       "</table>\n",
       "<p>188 rows × 3 columns</p>\n",
       "</div>"
      ],
      "text/plain": [
       "      id       name  gold\n",
       "0   1001         장화   300\n",
       "0   1004     요정의 부적   250\n",
       "0   1006  원기 회복의 구슬   150\n",
       "0   1011    거인의 허리띠   500\n",
       "0   1018    민첩성의 망토   600\n",
       "..   ...        ...   ...\n",
       "0   6692         월식   850\n",
       "0   6693     자객의 발톱  1000\n",
       "0   6694    세릴다의 원한   650\n",
       "0   6695    독사의 송곳니   625\n",
       "0   8001     증오의 사슬   800\n",
       "\n",
       "[188 rows x 3 columns]"
      ]
     },
     "execution_count": 9,
     "metadata": {},
     "output_type": "execute_result"
    }
   ],
   "source": [
    "item_df"
   ]
  },
  {
   "cell_type": "code",
   "execution_count": 10,
   "id": "c73bfbe2",
   "metadata": {},
   "outputs": [],
   "source": [
    "# 각 아이템의 조합비를 merge\n",
    "item_tree_full = item_tree_full.merge(item_df, left_on = 'id_from', right_on = 'id')[['id_x','id_from','gold']].\\\n",
    "rename(columns = {'id_x' : 'id'})\n",
    "\n"
   ]
  },
  {
   "cell_type": "code",
   "execution_count": 11,
   "id": "b8ad4509",
   "metadata": {},
   "outputs": [
    {
     "data": {
      "text/html": [
       "<div>\n",
       "<style scoped>\n",
       "    .dataframe tbody tr th:only-of-type {\n",
       "        vertical-align: middle;\n",
       "    }\n",
       "\n",
       "    .dataframe tbody tr th {\n",
       "        vertical-align: top;\n",
       "    }\n",
       "\n",
       "    .dataframe thead th {\n",
       "        text-align: right;\n",
       "    }\n",
       "</style>\n",
       "<table border=\"1\" class=\"dataframe\">\n",
       "  <thead>\n",
       "    <tr style=\"text-align: right;\">\n",
       "      <th></th>\n",
       "      <th>id</th>\n",
       "      <th>id_from</th>\n",
       "      <th>gold</th>\n",
       "    </tr>\n",
       "  </thead>\n",
       "  <tbody>\n",
       "    <tr>\n",
       "      <th>105</th>\n",
       "      <td>3046</td>\n",
       "      <td>1042</td>\n",
       "      <td>300</td>\n",
       "    </tr>\n",
       "    <tr>\n",
       "      <th>129</th>\n",
       "      <td>3046</td>\n",
       "      <td>1036</td>\n",
       "      <td>350</td>\n",
       "    </tr>\n",
       "    <tr>\n",
       "      <th>130</th>\n",
       "      <td>3046</td>\n",
       "      <td>1036</td>\n",
       "      <td>350</td>\n",
       "    </tr>\n",
       "    <tr>\n",
       "      <th>413</th>\n",
       "      <td>3046</td>\n",
       "      <td>1018</td>\n",
       "      <td>600</td>\n",
       "    </tr>\n",
       "    <tr>\n",
       "      <th>422</th>\n",
       "      <td>3046</td>\n",
       "      <td>3086</td>\n",
       "      <td>150</td>\n",
       "    </tr>\n",
       "    <tr>\n",
       "      <th>594</th>\n",
       "      <td>3046</td>\n",
       "      <td>3046</td>\n",
       "      <td>850</td>\n",
       "    </tr>\n",
       "  </tbody>\n",
       "</table>\n",
       "</div>"
      ],
      "text/plain": [
       "       id id_from gold\n",
       "105  3046    1042  300\n",
       "129  3046    1036  350\n",
       "130  3046    1036  350\n",
       "413  3046    1018  600\n",
       "422  3046    3086  150\n",
       "594  3046    3046  850"
      ]
     },
     "execution_count": 11,
     "metadata": {},
     "output_type": "execute_result"
    }
   ],
   "source": [
    "item_tree_full[item_tree_full.id == '3046']"
   ]
  },
  {
   "cell_type": "code",
   "execution_count": 12,
   "id": "b6a48043",
   "metadata": {},
   "outputs": [],
   "source": [
    "# 중복되는 row가 발생할 시 gold 수치를 합쳐서 중복되는 row 제거\n",
    "item_tree_full = item_tree_full.groupby(['id', 'id_from'], as_index=False).sum(['gold'])\n",
    "\n",
    "# 유령 무희 | 롱소드 | 350\n",
    "# 유령 무희 | 롱소드 | 350\n",
    "# -->\n",
    "# 유령 무희 | 롱소드 | 700"
   ]
  },
  {
   "cell_type": "code",
   "execution_count": 14,
   "id": "8e65aae9",
   "metadata": {
    "scrolled": true
   },
   "outputs": [],
   "source": [
    "# string => numeric 형변환\n",
    "item_df['id'] = pd.to_numeric(item_df['id'])\n",
    "item_tree_full['id'] = pd.to_numeric(item_tree_full['id'])\n",
    "item_tree_full['id_from'] = pd.to_numeric(item_tree_full['id_from'])"
   ]
  },
  {
   "cell_type": "code",
   "execution_count": 15,
   "id": "dac44ca7",
   "metadata": {},
   "outputs": [],
   "source": [
    "# 메모리 확보를 위해 사용하지 않을 변수 삭제\n",
    "del constant_patch\n",
    "del champion_info\n",
    "del item_id\n",
    "del item_info\n",
    "del item_row\n",
    "del item_row_tree\n",
    "del item_tree\n",
    "del item_tree_new"
   ]
  },
  {
   "cell_type": "code",
   "execution_count": 16,
   "id": "f27dbc2c",
   "metadata": {},
   "outputs": [],
   "source": [
    "# # OPGG Database에 connection 생성\n",
    "# con = pymysql.connect(\n",
    "#     user = os.environ['LOL_KR_ID'],\n",
    "#     passwd = os.environ['LOL_KR_PW'],\n",
    "#     host = os.environ['LOL_KR_HOST'],\n",
    "#     db = 'lol',\n",
    "#     charset = 'utf8'\n",
    "# )\n",
    "# cursor = con.cursor(pymysql.cursors.DictCursor)"
   ]
  },
  {
   "cell_type": "code",
   "execution_count": 17,
   "id": "9b3ae746",
   "metadata": {},
   "outputs": [],
   "source": [
    "# # 패치 날짜 데이터 불러오기\n",
    "# cursor.execute('''\n",
    "# SELECT version, date\n",
    "# FROM lolVersionHistory\n",
    "# ''')\n",
    "# patchDate = cursor.fetchall()\n",
    "\n",
    "# patchDate = pd.DataFrame(patchDate)\n",
    "\n",
    "# # version => season, patch로 가공, 세부 버전(핫픽스, 밸런싱 X 패치 등) 제거\n",
    "# patchDate['season'] = pd.to_numeric(patchDate['version'].str.split('.').str[0])\n",
    "# patchDate['patch'] = pd.to_numeric(patchDate['version'].str.split('.').str[1])\n",
    "# patchDate = patchDate.groupby(['season','patch'],as_index=False).min('date').drop('version', axis = 1).sort_values(['season','patch'])"
   ]
  },
  {
   "cell_type": "code",
   "execution_count": 18,
   "id": "6060cc6f",
   "metadata": {},
   "outputs": [],
   "source": [
    "# # 현재 패치 칼바람 챔피언&아이템 데이터 불러오기\n",
    "# cursor.execute('''\n",
    "# SELECT STRAIGHT_JOIN championId, item0, item1, item2, item3, item4, item5\n",
    "# FROM opGame o FORCE INDEX (ix_createDate),\n",
    "# p_opGameStats p FORCE INDEX (`PRIMARY`)\n",
    "# WHERE o.gameId = p.gameId\n",
    "# AND o.createDate >= '{lastpatch}'\n",
    "# AND p.createDate >= '{lastpatch}'\n",
    "# AND subType = 450\n",
    "# '''.format(lastpatch=pd.to_datetime(patchDate['date'].tail(1).values[0])))\n",
    "# gamestats = cursor.fetchall()\n",
    "\n",
    "# gamestats = pd.DataFrame(gamestats)\n",
    "\n",
    "# # # csv로 저장\n",
    "# # gamestats.to_csv(\"gamestats.csv\", mode='w')"
   ]
  },
  {
   "cell_type": "code",
   "execution_count": 19,
   "id": "8e532024",
   "metadata": {
    "scrolled": false
   },
   "outputs": [
    {
     "name": "stderr",
     "output_type": "stream",
     "text": [
      "/Users/jongyong/anaconda3/lib/python3.8/site-packages/numpy/lib/arraysetops.py:583: FutureWarning: elementwise comparison failed; returning scalar instead, but in the future will perform elementwise comparison\n",
      "  mask |= (ar1 == a)\n"
     ]
    }
   ],
   "source": [
    "# csv 파일에서 가져오기\n",
    "gamestats = pd.read_csv('gamestats.csv', index_col=0)"
   ]
  },
  {
   "cell_type": "code",
   "execution_count": null,
   "id": "78405234",
   "metadata": {},
   "outputs": [],
   "source": []
  },
  {
   "cell_type": "code",
   "execution_count": 20,
   "id": "1826b83d",
   "metadata": {},
   "outputs": [
    {
     "ename": "SyntaxError",
     "evalue": "invalid syntax (<ipython-input-20-164e6a12fd3a>, line 4)",
     "output_type": "error",
     "traceback": [
      "\u001b[0;36m  File \u001b[0;32m\"<ipython-input-20-164e6a12fd3a>\"\u001b[0;36m, line \u001b[0;32m4\u001b[0m\n\u001b[0;31m    itemstats = #작성#\u001b[0m\n\u001b[0m                ^\u001b[0m\n\u001b[0;31mSyntaxError\u001b[0m\u001b[0;31m:\u001b[0m invalid syntax\n"
     ]
    }
   ],
   "source": [
    "# 아이템 컬럼 하나로 모으기\n",
    "# 'pandas.melt'라는 함수를 적용\n",
    "# gamestats에 item0 ~ item5로 나와있는 컬럼을 item 컬럼으로 합쳐서 한 소환사당 1*6 형태로 된 DataFrame을 6*1로 변환\n",
    "itemstats = pd.gamestats(itemstats.item0)\n",
    "itemstats = \n",
    "itemstats = \n",
    "itemstats = \n",
    "\n",
    "\n",
    "\n",
    "# itemstats에는 챔피언id가 'championId'로, 구매한 아이템이 'item' column으로 들어감\n",
    "\n",
    "# 빈 값(0) 지우기\n",
    "itemstats = itemstats[itemstats.item != 0]"
   ]
  },
  {
   "cell_type": "code",
   "execution_count": null,
   "id": "fc0cf5fc",
   "metadata": {},
   "outputs": [],
   "source": [
    "del gamestats"
   ]
  },
  {
   "cell_type": "code",
   "execution_count": null,
   "id": "36afdc1a",
   "metadata": {},
   "outputs": [],
   "source": [
    "# 약간 신비한 신발 => 신발 치환\n",
    "itemstats.item[itemstats.item == 2422] = 1001\n",
    "\n",
    "# 초시계 시리즈 => 초시계 치환\n",
    "itemstats.item[itemstats.item.isin([2419, 2421, 2423, 2424])] = 2420\n",
    "\n",
    "# 무라마나 => 마나무네 치환\n",
    "# 대천사의 포옹 => 대천사의 지팡이 치환\n",
    "itemstats.item[itemstats.item == 3042] = 3004\n",
    "itemstats.item[itemstats.item == 3040] = 3003\n",
    "\n",
    "# 오른의 걸작 치환\n",
    "itemstats.item[itemstats.item == 7000] = 6693\n",
    "itemstats.item[itemstats.item == 7001] = 6692\n",
    "itemstats.item[itemstats.item == 7002] = 6691\n",
    "itemstats.item[itemstats.item == 7003] = 6664\n",
    "itemstats.item[itemstats.item == 7004] = 3068\n",
    "itemstats.item[itemstats.item == 7005] = 6662\n",
    "itemstats.item[itemstats.item == 7006] = 6671\n",
    "itemstats.item[itemstats.item == 7007] = 6672\n",
    "itemstats.item[itemstats.item == 7008] = 6673\n",
    "itemstats.item[itemstats.item == 7009] = 4633\n",
    "itemstats.item[itemstats.item == 7010] = 4636\n",
    "itemstats.item[itemstats.item == 7011] = 3152\n",
    "itemstats.item[itemstats.item == 7012] = 6653\n",
    "itemstats.item[itemstats.item == 7013] = 6655\n",
    "itemstats.item[itemstats.item == 7014] = 6656\n",
    "itemstats.item[itemstats.item == 7015] = 6630\n",
    "itemstats.item[itemstats.item == 7016] = 6631\n",
    "itemstats.item[itemstats.item == 7017] = 6632\n",
    "itemstats.item[itemstats.item == 7018] = 3078\n",
    "itemstats.item[itemstats.item == 7019] = 3190\n",
    "itemstats.item[itemstats.item == 7020] = 2065\n",
    "itemstats.item[itemstats.item == 7021] = 6617\n",
    "itemstats.item[itemstats.item == 7022] = 4005"
   ]
  },
  {
   "cell_type": "code",
   "execution_count": null,
   "id": "df1ee796",
   "metadata": {},
   "outputs": [],
   "source": [
    "# 챔피언별로 각 아이템에 투자한 골드 총량 계산\n",
    "\n",
    "# championId, item를 기준으로 grouping하여 row 수를 'size' column을 만들어 저장\n",
    "itemstats = #작성#\n",
    "\n",
    "# item_tree_full과 merge하여 각 아이템에 맵핑되는 조합비(gold) column 추가\n",
    "itemstats = #작성#\n",
    "\n",
    "# 해당 아이템의 조합비가 적혀 있는 'gold' column에 해당 아이템을 사는데 소모한 총 골드(gold * size) 덮어쓰기\n",
    "itemstats['gold'] = #작성#\n",
    "\n",
    "# 이후 계산 알아보기 쉽도록 scaling\n",
    "# Consine similarity를 쓰기 때문에 value scaling은 영향 없음\n",
    "itemstats['gold'] = itemstats['gold'] / 1e5\n",
    "\n",
    "# size column 제거\n",
    "itemstats = itemstats.drop('size',axis=1)\n",
    "\n",
    "# item_tree_full과 merge할 때 생긴 중복 row 합치기\n",
    "itemstats = itemstats.groupby(['championId','id_from'],as_index=False).apply(lambda x: pd.Series({'gold':\n",
    "                                                                                         sum(x.gold)}))"
   ]
  },
  {
   "cell_type": "code",
   "execution_count": 23,
   "id": "9b0c5671",
   "metadata": {},
   "outputs": [
    {
     "ename": "NameError",
     "evalue": "name 'itemstats' is not defined",
     "output_type": "error",
     "traceback": [
      "\u001b[0;31m---------------------------------------------------------------------------\u001b[0m",
      "\u001b[0;31mNameError\u001b[0m                                 Traceback (most recent call last)",
      "\u001b[0;32m<ipython-input-23-21472c7247b6>\u001b[0m in \u001b[0;36m<module>\u001b[0;34m\u001b[0m\n\u001b[1;32m      1\u001b[0m \u001b[0;31m# 챔피언 골드 비례 상수 계산\u001b[0m\u001b[0;34m\u001b[0m\u001b[0;34m\u001b[0m\u001b[0;34m\u001b[0m\u001b[0m\n\u001b[0;32m----> 2\u001b[0;31m championstats = itemstats.groupby('championId',as_index=False).apply(lambda x: pd.Series({'length':\n\u001b[0m\u001b[1;32m      3\u001b[0m                                                                                          math.sqrt(sum(x.gold**2))}))\n",
      "\u001b[0;31mNameError\u001b[0m: name 'itemstats' is not defined"
     ]
    }
   ],
   "source": [
    "# 챔피언 골드 비례 상수 계산\n",
    "championstats = itemstats.groupby('championId',as_index=False).apply(lambda x: pd.Series({'length':\n",
    "                                                                                         math.sqrt(sum(x.gold**2))}))"
   ]
  },
  {
   "cell_type": "code",
   "execution_count": null,
   "id": "e9836559",
   "metadata": {},
   "outputs": [],
   "source": [
    "# 각 챔피언 간 유사도 계산을 위한 내적(inner product) 계산 수행\n",
    "\n",
    "# itemstats 자기자신을 아이템 기준으로 merge하여 champion X와 champion Y가 해당 아이템을 사는데 소모한 골드를 한 row에 저장\n",
    "itemstats = #작성#\n",
    "# itemstats == [championId_x | championId_y | gold_x | gold_y]\n",
    "\n",
    "# championId_x > championId_y인 row만 남기기\n",
    "itemstats = #작성#\n",
    "\n",
    "# 각 row에 대해 gold_x와 gold_y를 곱해서 gold_prod 컬럼에 저장\n",
    "itemstats['gold_prod'] = itemstats['gold_x'] * itemstats['gold_y']\n",
    "\n",
    "# 다 사용한 gold columns 제거\n",
    "itemstats = itemstats.drop(['gold_x','gold_y'],axis=1)\n",
    "\n",
    "# championId_x, championId_y를 기준으로 grouping하여 gold_prod 합 계산\n",
    "itemstats = #작성#\n",
    "# itemstats == [championId_x | championId_y | gold_prod]"
   ]
  },
  {
   "cell_type": "code",
   "execution_count": null,
   "id": "4aa001c8",
   "metadata": {},
   "outputs": [],
   "source": [
    "# 챔피언 유사도 및 거리 계산\n",
    "\n",
    "# itemstats에 championstats를 merge해서 length_x, length_y 컬럼 추가\n",
    "itemstats = itemstats.merge(championstats, left_on = 'championId_x', right_on 'championId'.drop('championId', axis=1)\n",
    "itemstats = itemstats.merge(championstats, left_on = 'championId_x', right_on 'championId'.drop('championId', axis=1)\n",
    "# itemstats == [championId_x | championId_y | gold_prod | length_x | length_y]\n",
    "\n",
    "# similarity = gold_prod / (length_x * length_y) column 추가\n",
    "itemstats['similarity'] = itemstats['gold_prod'] / [itemstats['length_x']*itemstats['length_y']]\n",
    "\n",
    "# distance = arccos(similarity)/(pi/2) column 추가\n",
    "itemstats['distance'] = np.arccos(itemstats['similarity'])/(math.pi/2)\n",
    "\n",
    "# 필요한 column(챔피언간 거리)만 추출\n",
    "itemstats = itemstats[['championId_x','championId_y','distance']]"
   ]
  },
  {
   "cell_type": "code",
   "execution_count": null,
   "id": "05086154",
   "metadata": {
    "scrolled": true
   },
   "outputs": [],
   "source": [
    "# distance array 형태로 변환\n",
    "# index에 주의\n",
    "\n",
    "# itemstats를 championId_x, championId_y 내림차순으로 정렬하여 'distance' column만 남겨두기\n",
    "distance_array = itemstats.sort_values(['championId_x','championId_y'], ascending=[False,False])['distance']"
   ]
  },
  {
   "cell_type": "code",
   "execution_count": null,
   "id": "2f998968",
   "metadata": {},
   "outputs": [],
   "source": [
    "distance_array"
   ]
  },
  {
   "cell_type": "code",
   "execution_count": null,
   "id": "4d45276e",
   "metadata": {},
   "outputs": [],
   "source": [
    "# 'complete' 메소드로 h-clustering 수행\n",
    "Z = linkage(distance_array, 'complete')"
   ]
  },
  {
   "cell_type": "code",
   "execution_count": null,
   "id": "2be08e8a",
   "metadata": {},
   "outputs": [],
   "source": [
    "# 시각화\n",
    "fig = plt.figure(figsize=(25, 10))\n",
    "dn = dendrogram(Z)"
   ]
  },
  {
   "cell_type": "code",
   "execution_count": 16,
   "id": "1a59df9f",
   "metadata": {},
   "outputs": [
    {
     "ename": "NameError",
     "evalue": "name 'Z' is not defined",
     "output_type": "error",
     "traceback": [
      "\u001b[0;31m---------------------------------------------------------------------------\u001b[0m",
      "\u001b[0;31mNameError\u001b[0m                                 Traceback (most recent call last)",
      "\u001b[0;32m<ipython-input-16-b6e3b033c99a>\u001b[0m in \u001b[0;36m<module>\u001b[0;34m\u001b[0m\n\u001b[1;32m      1\u001b[0m \u001b[0;31m# 적당한 개수의 클러스터로 구분\u001b[0m\u001b[0;34m\u001b[0m\u001b[0;34m\u001b[0m\u001b[0;34m\u001b[0m\u001b[0m\n\u001b[0;32m----> 2\u001b[0;31m \u001b[0mcluster\u001b[0m \u001b[0;34m=\u001b[0m \u001b[0mpd\u001b[0m\u001b[0;34m.\u001b[0m\u001b[0mDataFrame\u001b[0m\u001b[0;34m(\u001b[0m\u001b[0mfcluster\u001b[0m\u001b[0;34m(\u001b[0m\u001b[0mZ\u001b[0m\u001b[0;34m,\u001b[0m\u001b[0;36m0.6\u001b[0m\u001b[0;34m,\u001b[0m\u001b[0mcriterion\u001b[0m\u001b[0;34m=\u001b[0m\u001b[0;34m'distance'\u001b[0m\u001b[0;34m)\u001b[0m\u001b[0;34m)\u001b[0m\u001b[0;34m\u001b[0m\u001b[0;34m\u001b[0m\u001b[0m\n\u001b[0m\u001b[1;32m      3\u001b[0m \u001b[0mcluster\u001b[0m\u001b[0;34m.\u001b[0m\u001b[0mcolumns\u001b[0m\u001b[0;34m=\u001b[0m\u001b[0;34m[\u001b[0m\u001b[0;34m'cluster'\u001b[0m\u001b[0;34m]\u001b[0m\u001b[0;34m\u001b[0m\u001b[0;34m\u001b[0m\u001b[0m\n",
      "\u001b[0;31mNameError\u001b[0m: name 'Z' is not defined"
     ]
    }
   ],
   "source": [
    "# 적당한 개수의 클러스터로 구분\n",
    "cluster = pd.DataFrame(fcluster(Z,0.6,criterion='distance'))\n",
    "cluster.columns=['cluster']"
   ]
  },
  {
   "cell_type": "code",
   "execution_count": 17,
   "id": "17a63c26",
   "metadata": {},
   "outputs": [
    {
     "ename": "NameError",
     "evalue": "name 'result' is not defined",
     "output_type": "error",
     "traceback": [
      "\u001b[0;31m---------------------------------------------------------------------------\u001b[0m",
      "\u001b[0;31mNameError\u001b[0m                                 Traceback (most recent call last)",
      "\u001b[0;32m<ipython-input-17-ae3c648b12ad>\u001b[0m in \u001b[0;36m<module>\u001b[0;34m\u001b[0m\n\u001b[1;32m      2\u001b[0m \u001b[0;34m\u001b[0m\u001b[0m\n\u001b[1;32m      3\u001b[0m \u001b[0;31m# key column 기준 내림차순으로 된 champion_df.name를 cluster 오른쪽에 concat\u001b[0m\u001b[0;34m\u001b[0m\u001b[0;34m\u001b[0m\u001b[0;34m\u001b[0m\u001b[0m\n\u001b[0;32m----> 4\u001b[0;31m \u001b[0mresult\u001b[0m \u001b[0;34m==\u001b[0m \u001b[0;34m[\u001b[0m\u001b[0mcluster\u001b[0m \u001b[0;34m|\u001b[0m \u001b[0mname\u001b[0m\u001b[0;34m]\u001b[0m\u001b[0;34m\u001b[0m\u001b[0;34m\u001b[0m\u001b[0m\n\u001b[0m\u001b[1;32m      5\u001b[0m \u001b[0;31m# result == [cluster | name]\u001b[0m\u001b[0;34m\u001b[0m\u001b[0;34m\u001b[0m\u001b[0;34m\u001b[0m\u001b[0m\n",
      "\u001b[0;31mNameError\u001b[0m: name 'result' is not defined"
     ]
    }
   ],
   "source": [
    "# 결과 DataFrame 구성\n",
    "\n",
    "# key column 기준 내림차순으로 된 champion_df.name를 cluster 오른쪽에 concat\n",
    "result = pd.concat([cluster,champion_df.sort_values('key',ascending=False)['name'].reset_index(drop=True)],axis=1)\n",
    "# result == [cluster | name]"
   ]
  },
  {
   "cell_type": "code",
   "execution_count": 18,
   "id": "13ca32e4",
   "metadata": {},
   "outputs": [
    {
     "ename": "NameError",
     "evalue": "name 'result' is not defined",
     "output_type": "error",
     "traceback": [
      "\u001b[0;31m---------------------------------------------------------------------------\u001b[0m",
      "\u001b[0;31mNameError\u001b[0m                                 Traceback (most recent call last)",
      "\u001b[0;32m<ipython-input-18-e64ce1918e03>\u001b[0m in \u001b[0;36m<module>\u001b[0;34m\u001b[0m\n\u001b[1;32m      1\u001b[0m \u001b[0;31m# 출력\u001b[0m\u001b[0;34m\u001b[0m\u001b[0;34m\u001b[0m\u001b[0;34m\u001b[0m\u001b[0m\n\u001b[1;32m      2\u001b[0m \u001b[0mpd\u001b[0m\u001b[0;34m.\u001b[0m\u001b[0mset_option\u001b[0m\u001b[0;34m(\u001b[0m\u001b[0;34m'display.max_rows'\u001b[0m\u001b[0;34m,\u001b[0m \u001b[0;32mNone\u001b[0m\u001b[0;34m)\u001b[0m\u001b[0;34m\u001b[0m\u001b[0;34m\u001b[0m\u001b[0m\n\u001b[0;32m----> 3\u001b[0;31m \u001b[0mresult\u001b[0m\u001b[0;34m\u001b[0m\u001b[0;34m\u001b[0m\u001b[0m\n\u001b[0m",
      "\u001b[0;31mNameError\u001b[0m: name 'result' is not defined"
     ]
    }
   ],
   "source": [
    "# 출력\n",
    "pd.set_option('display.max_rows', None)\n",
    "result.sort_values('cluster')"
   ]
  },
  {
   "cell_type": "code",
   "execution_count": null,
   "id": "73f9120e",
   "metadata": {},
   "outputs": [],
   "source": []
  },
  {
   "cell_type": "code",
   "execution_count": null,
   "id": "339fceed",
   "metadata": {},
   "outputs": [],
   "source": []
  }
 ],
 "metadata": {
  "kernelspec": {
   "display_name": "Python 3",
   "language": "python",
   "name": "python3"
  },
  "language_info": {
   "codemirror_mode": {
    "name": "ipython",
    "version": 3
   },
   "file_extension": ".py",
   "mimetype": "text/x-python",
   "name": "python",
   "nbconvert_exporter": "python",
   "pygments_lexer": "ipython3",
   "version": "3.8.8"
  },
  "varInspector": {
   "cols": {
    "lenName": 16,
    "lenType": 16,
    "lenVar": 40
   },
   "kernels_config": {
    "python": {
     "delete_cmd_postfix": "",
     "delete_cmd_prefix": "del ",
     "library": "var_list.py",
     "varRefreshCmd": "print(var_dic_list())"
    },
    "r": {
     "delete_cmd_postfix": ") ",
     "delete_cmd_prefix": "rm(",
     "library": "var_list.r",
     "varRefreshCmd": "cat(var_dic_list()) "
    }
   },
   "position": {
    "height": "707.713px",
    "left": "0.4375px",
    "right": "20px",
    "top": "-1px",
    "width": "389px"
   },
   "types_to_exclude": [
    "module",
    "function",
    "builtin_function_or_method",
    "instance",
    "_Feature"
   ],
   "window_display": false
  }
 },
 "nbformat": 4,
 "nbformat_minor": 5
}
