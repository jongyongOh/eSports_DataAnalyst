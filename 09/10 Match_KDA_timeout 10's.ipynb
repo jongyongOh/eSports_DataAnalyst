{
 "cells": [
  {
   "cell_type": "code",
   "execution_count": 1,
   "id": "d21748db",
   "metadata": {},
   "outputs": [
    {
     "name": "stdout",
     "output_type": "stream",
     "text": [
      "Requirement already satisfied: selenium in /Users/jongyong/anaconda3/lib/python3.8/site-packages (3.141.0)\n",
      "Requirement already satisfied: urllib3 in /Users/jongyong/anaconda3/lib/python3.8/site-packages (from selenium) (1.26.4)\n",
      "Requirement already satisfied: bs4 in /Users/jongyong/anaconda3/lib/python3.8/site-packages (0.0.1)\n",
      "Requirement already satisfied: beautifulsoup4 in /Users/jongyong/anaconda3/lib/python3.8/site-packages (from bs4) (4.9.3)\n",
      "Requirement already satisfied: soupsieve>1.2 in /Users/jongyong/anaconda3/lib/python3.8/site-packages (from beautifulsoup4->bs4) (2.2.1)\n"
     ]
    }
   ],
   "source": [
    "!pip install selenium\n",
    "!pip install bs4"
   ]
  },
  {
   "cell_type": "code",
   "execution_count": 2,
   "id": "fba12af5",
   "metadata": {},
   "outputs": [
    {
     "name": "stdout",
     "output_type": "stream",
     "text": [
      "Requirement already satisfied: chromedriver-autoinstaller in /Users/jongyong/anaconda3/lib/python3.8/site-packages (0.2.2)\r\n"
     ]
    }
   ],
   "source": [
    "!pip install chromedriver-autoinstaller"
   ]
  },
  {
   "cell_type": "code",
   "execution_count": 3,
   "id": "41b1fc58",
   "metadata": {},
   "outputs": [],
   "source": [
    "import requests\n",
    "import time\n",
    "import pandas as pd\n",
    "from bs4 import BeautifulSoup\n",
    "from selenium import webdriver\n",
    "from selenium.webdriver.support.ui import Select\n",
    "import chromedriver_autoinstaller\n"
   ]
  },
  {
   "cell_type": "code",
   "execution_count": 4,
   "id": "cc4c57b7",
   "metadata": {},
   "outputs": [
    {
     "data": {
      "text/plain": [
       "'/Users/jongyong/anaconda3/lib/python3.8/site-packages/chromedriver_autoinstaller/95/chromedriver'"
      ]
     },
     "execution_count": 4,
     "metadata": {},
     "output_type": "execute_result"
    }
   ],
   "source": [
    "chromedriver_autoinstaller.install()"
   ]
  },
  {
   "cell_type": "code",
   "execution_count": 5,
   "id": "95548099",
   "metadata": {},
   "outputs": [],
   "source": [
    "driver = webdriver.Chrome()"
   ]
  },
  {
   "cell_type": "code",
   "execution_count": 14,
   "id": "0cea55bd",
   "metadata": {},
   "outputs": [],
   "source": [
    "# selenium을 백그라운드로 실행하기 위해 옵션 설정\n",
    "options = webdriver.ChromeOptions()\n",
    "options.add_argument('headless')\n",
    "options.add_argument('window-size=1920x1080')"
   ]
  },
  {
   "cell_type": "code",
   "execution_count": 6,
   "id": "f6ec965d",
   "metadata": {},
   "outputs": [],
   "source": [
    "# 우리가 데이터를 가져올 웹 페이지입니다.\n",
    "Ma3str0_opgg_url = 'https://www.op.gg/summoner/userName=Ma3str0'\n",
    "\n",
    "# selenium이 제어할 chrome을 실행합니다.\n",
    "driver = webdriver.Chrome('/Users/jongyong/anaconda3/lib/python3.8/site-packages/chromedriver_autoinstaller/95/chromedriver'\n",
    ")"
   ]
  },
  {
   "cell_type": "code",
   "execution_count": 7,
   "id": "80320930",
   "metadata": {},
   "outputs": [],
   "source": [
    "# 데이터를 가져올 페이지로 이동한 후 timeout 10초로 지정\n",
    "driver.get(Ma3str0_opgg_url)\n",
    "driver.set_page_load_timeout(10)"
   ]
  },
  {
   "cell_type": "code",
   "execution_count": 8,
   "id": "e1d4e78c",
   "metadata": {},
   "outputs": [],
   "source": [
    "# HTML\n",
    "Ma3str0_total_html = driver.page_source"
   ]
  },
  {
   "cell_type": "code",
   "execution_count": 9,
   "id": "73b1059e",
   "metadata": {},
   "outputs": [],
   "source": [
    "# parser\n",
    "Ma3str0_total_soup = BeautifulSoup(Ma3str0_total_html, 'html.parser')"
   ]
  },
  {
   "cell_type": "code",
   "execution_count": 10,
   "id": "fab64b98",
   "metadata": {},
   "outputs": [],
   "source": [
    "# list\n",
    "Ma3str0_champions = []\n",
    "Ma3str0_kills = []\n",
    "Ma3str0_deaths = []\n",
    "Ma3str0_assists = []\n",
    "Ma3str0_results = []"
   ]
  },
  {
   "cell_type": "code",
   "execution_count": 11,
   "id": "8d71a2b6",
   "metadata": {},
   "outputs": [],
   "source": [
    "# 전체 html 코드 중 우리가 원하는 selector를 만족하는 것만 가져오기\n",
    "Ma3str0_total_games_html = Ma3str0_total_soup.select('div.GameItemList div.GameItemWrap')"
   ]
  },
  {
   "cell_type": "code",
   "execution_count": 12,
   "id": "eb69b2f9",
   "metadata": {},
   "outputs": [
    {
     "name": "stdout",
     "output_type": "stream",
     "text": [
      "20\n"
     ]
    }
   ],
   "source": [
    "# 그렇게 가져온 html 코드의 element 개수 == 끝까지 로딩된 모든 게임 수 출력\n",
    "total_game_len = len(Ma3str0_total_games_html)\n",
    "print(total_game_len)"
   ]
  },
  {
   "cell_type": "code",
   "execution_count": 13,
   "id": "df77a538",
   "metadata": {},
   "outputs": [],
   "source": [
    "# 각 게임에 대해 웹 페이지에 기재된 스탯을 찾아서(selector 사용) 결과 리스트에 append하기\n",
    "for i in range(total_game_len):\n",
    "    Ma3str0_champions.append(list(Ma3str0_total_games_html[i].select_one('div.ChampionName').\n",
    "                                               stripped_strings)[0])\n",
    "    Ma3str0_kills.append(list(Ma3str0_total_games_html[i].select_one('div.KDA div.KDA span.Kill').\n",
    "                                               stripped_strings)[0])\n",
    "    Ma3str0_deaths.append(list(Ma3str0_total_games_html[i].select_one('div.KDA div.KDA span.Death').\n",
    "                                               stripped_strings)[0])\n",
    "    Ma3str0_assists.append(list(Ma3str0_total_games_html[i].select_one('div.KDA div.KDA span.Assist').\n",
    "                                               stripped_strings)[0])\n",
    "    Ma3str0_results.append(list(Ma3str0_total_games_html[i].select_one('div.GameStats div.GameResult').\n",
    "                                               stripped_strings)[0])"
   ]
  },
  {
   "cell_type": "code",
   "execution_count": 14,
   "id": "e9062a44",
   "metadata": {},
   "outputs": [],
   "source": [
    "# selenium이 제어하는 크롬 종료\n",
    "driver.quit()"
   ]
  },
  {
   "cell_type": "code",
   "execution_count": 15,
   "id": "b0584c3d",
   "metadata": {},
   "outputs": [],
   "source": [
    "Ma3str0_kills = [int (i) for i in Ma3str0_kills]\n",
    "Ma3str0_deaths = [int (i) for i in Ma3str0_deaths]\n",
    "Ma3str0_assists = [int (i) for i in Ma3str0_assists]\n",
    "\n",
    "Ma3str0_KDA = []\n",
    "for i in range(total_game_len):\n",
    "    if(Ma3str0_deaths[i] == 0):\n",
    "        Ma3str0_KDA.append(\"Perfect\")\n",
    "    else:\n",
    "        Ma3str0_KDA.append((Ma3str0_kills[i]+Ma3str0_assists[i])/Ma3str0_deaths[i])"
   ]
  },
  {
   "cell_type": "code",
   "execution_count": 16,
   "id": "6bd4d43a",
   "metadata": {},
   "outputs": [
    {
     "data": {
      "text/html": [
       "<div>\n",
       "<style scoped>\n",
       "    .dataframe tbody tr th:only-of-type {\n",
       "        vertical-align: middle;\n",
       "    }\n",
       "\n",
       "    .dataframe tbody tr th {\n",
       "        vertical-align: top;\n",
       "    }\n",
       "\n",
       "    .dataframe thead th {\n",
       "        text-align: right;\n",
       "    }\n",
       "</style>\n",
       "<table border=\"1\" class=\"dataframe\">\n",
       "  <thead>\n",
       "    <tr style=\"text-align: right;\">\n",
       "      <th></th>\n",
       "      <th>champion</th>\n",
       "      <th>result</th>\n",
       "      <th>kills</th>\n",
       "      <th>deaths</th>\n",
       "      <th>assists</th>\n",
       "      <th>KDA</th>\n",
       "    </tr>\n",
       "  </thead>\n",
       "  <tbody>\n",
       "    <tr>\n",
       "      <th>0</th>\n",
       "      <td>티모</td>\n",
       "      <td>패배</td>\n",
       "      <td>9</td>\n",
       "      <td>14</td>\n",
       "      <td>26</td>\n",
       "      <td>2.5</td>\n",
       "    </tr>\n",
       "    <tr>\n",
       "      <th>1</th>\n",
       "      <td>소나</td>\n",
       "      <td>패배</td>\n",
       "      <td>2</td>\n",
       "      <td>7</td>\n",
       "      <td>26</td>\n",
       "      <td>4.0</td>\n",
       "    </tr>\n",
       "    <tr>\n",
       "      <th>2</th>\n",
       "      <td>카르마</td>\n",
       "      <td>패배</td>\n",
       "      <td>5</td>\n",
       "      <td>14</td>\n",
       "      <td>34</td>\n",
       "      <td>2.785714</td>\n",
       "    </tr>\n",
       "    <tr>\n",
       "      <th>3</th>\n",
       "      <td>모르가나</td>\n",
       "      <td>승리</td>\n",
       "      <td>15</td>\n",
       "      <td>8</td>\n",
       "      <td>24</td>\n",
       "      <td>4.875</td>\n",
       "    </tr>\n",
       "    <tr>\n",
       "      <th>4</th>\n",
       "      <td>벨코즈</td>\n",
       "      <td>승리</td>\n",
       "      <td>6</td>\n",
       "      <td>7</td>\n",
       "      <td>30</td>\n",
       "      <td>5.142857</td>\n",
       "    </tr>\n",
       "    <tr>\n",
       "      <th>5</th>\n",
       "      <td>브라움</td>\n",
       "      <td>승리</td>\n",
       "      <td>1</td>\n",
       "      <td>11</td>\n",
       "      <td>36</td>\n",
       "      <td>3.363636</td>\n",
       "    </tr>\n",
       "    <tr>\n",
       "      <th>6</th>\n",
       "      <td>쓰레쉬</td>\n",
       "      <td>승리</td>\n",
       "      <td>4</td>\n",
       "      <td>5</td>\n",
       "      <td>15</td>\n",
       "      <td>3.8</td>\n",
       "    </tr>\n",
       "    <tr>\n",
       "      <th>7</th>\n",
       "      <td>블리츠크랭크</td>\n",
       "      <td>패배</td>\n",
       "      <td>2</td>\n",
       "      <td>11</td>\n",
       "      <td>13</td>\n",
       "      <td>1.363636</td>\n",
       "    </tr>\n",
       "    <tr>\n",
       "      <th>8</th>\n",
       "      <td>블리츠크랭크</td>\n",
       "      <td>승리</td>\n",
       "      <td>1</td>\n",
       "      <td>4</td>\n",
       "      <td>14</td>\n",
       "      <td>3.75</td>\n",
       "    </tr>\n",
       "    <tr>\n",
       "      <th>9</th>\n",
       "      <td>뽀삐</td>\n",
       "      <td>승리</td>\n",
       "      <td>4</td>\n",
       "      <td>8</td>\n",
       "      <td>23</td>\n",
       "      <td>3.375</td>\n",
       "    </tr>\n",
       "  </tbody>\n",
       "</table>\n",
       "</div>"
      ],
      "text/plain": [
       "  champion result kills deaths assists       KDA\n",
       "0       티모     패배     9     14      26       2.5\n",
       "1       소나     패배     2      7      26       4.0\n",
       "2      카르마     패배     5     14      34  2.785714\n",
       "3     모르가나     승리    15      8      24     4.875\n",
       "4      벨코즈     승리     6      7      30  5.142857\n",
       "5      브라움     승리     1     11      36  3.363636\n",
       "6      쓰레쉬     승리     4      5      15       3.8\n",
       "7   블리츠크랭크     패배     2     11      13  1.363636\n",
       "8   블리츠크랭크     승리     1      4      14      3.75\n",
       "9       뽀삐     승리     4      8      23     3.375"
      ]
     },
     "execution_count": 16,
     "metadata": {},
     "output_type": "execute_result"
    }
   ],
   "source": [
    "# DataFrame으로 변환 후 출력\n",
    "Ma3str0_total_df = pd.DataFrame([Ma3str0_champions,\n",
    "                                Ma3str0_results,\n",
    "                                Ma3str0_kills,\n",
    "                                Ma3str0_deaths,\n",
    "                                Ma3str0_assists,\n",
    "                                Ma3str0_KDA],\n",
    "                               index = ['champion', 'result', 'kills', 'deaths', 'assists', 'KDA']).T\n",
    "Ma3str0_total_df.head(10)\n"
   ]
  },
  {
   "cell_type": "code",
   "execution_count": null,
   "id": "b38b9021",
   "metadata": {},
   "outputs": [],
   "source": []
  },
  {
   "cell_type": "code",
   "execution_count": null,
   "id": "ef0dc9ea",
   "metadata": {},
   "outputs": [],
   "source": []
  }
 ],
 "metadata": {
  "kernelspec": {
   "display_name": "Python 3.8.8 64-bit ('base': conda)",
   "language": "python",
   "name": "python388jvsc74a57bd0d691dade15ea994b7d2a488bf5b8cdfd95b4b5e0a7d0c90572a03eb537e7a9b5"
  },
  "language_info": {
   "codemirror_mode": {
    "name": "ipython",
    "version": 3
   },
   "file_extension": ".py",
   "mimetype": "text/x-python",
   "name": "python",
   "nbconvert_exporter": "python",
   "pygments_lexer": "ipython3",
   "version": "3.8.8"
  }
 },
 "nbformat": 4,
 "nbformat_minor": 5
}
